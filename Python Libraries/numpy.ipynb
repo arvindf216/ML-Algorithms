{
 "cells": [
  {
   "cell_type": "code",
   "execution_count": 2,
   "metadata": {},
   "outputs": [
    {
     "name": "stdout",
     "output_type": "stream",
     "text": [
      "Hello World\n"
     ]
    }
   ],
   "source": [
    "print(\"Hello World\")\n"
   ]
  },
  {
   "attachments": {},
   "cell_type": "markdown",
   "metadata": {},
   "source": [
    "Hello"
   ]
  },
  {
   "cell_type": "code",
   "execution_count": 3,
   "metadata": {},
   "outputs": [
    {
     "name": "stdout",
     "output_type": "stream",
     "text": [
      "<IntegerArray>\n",
      "[2, 3]\n",
      "Length: 2, dtype: Int64\n"
     ]
    }
   ],
   "source": [
    "import pandas as pd\n",
    "p = pd.array([2,3])\n",
    "print(p)"
   ]
  },
  {
   "attachments": {},
   "cell_type": "markdown",
   "metadata": {},
   "source": [
    "Pandas 2D array"
   ]
  },
  {
   "cell_type": "code",
   "execution_count": 4,
   "metadata": {},
   "outputs": [
    {
     "name": "stdout",
     "output_type": "stream",
     "text": [
      "<NumpyExtensionArray>\n",
      "[[1, 2], [3, 4]]\n",
      "Length: 2, dtype: object\n"
     ]
    }
   ],
   "source": [
    "import pandas as pd\n",
    "p=pd.array([[1,2],[3,4]])\n",
    "\n",
    "print(p)"
   ]
  },
  {
   "attachments": {},
   "cell_type": "markdown",
   "metadata": {},
   "source": [
    "Numpy array"
   ]
  },
  {
   "cell_type": "code",
   "execution_count": 5,
   "metadata": {},
   "outputs": [
    {
     "name": "stdout",
     "output_type": "stream",
     "text": [
      "[[[1 2]\n",
      "  [3 4]]\n",
      "\n",
      " [[5 6]\n",
      "  [7 8]]]\n"
     ]
    }
   ],
   "source": [
    "import numpy as np\n",
    "a = np.array([[[1,2],[3,4]],[[5,6],[7,8]]])\n",
    "print(a)"
   ]
  },
  {
   "cell_type": "code",
   "execution_count": 6,
   "metadata": {},
   "outputs": [
    {
     "name": "stdout",
     "output_type": "stream",
     "text": [
      "[1 2 3 4]\n"
     ]
    }
   ],
   "source": [
    "a=np.array([1,2,3,4],dtype='int64')\n",
    "print(a)"
   ]
  },
  {
   "cell_type": "code",
   "execution_count": 7,
   "metadata": {},
   "outputs": [
    {
     "name": "stdout",
     "output_type": "stream",
     "text": [
      "1\n",
      "int64\n",
      "4\n",
      "8\n",
      "32\n",
      "(4,)\n"
     ]
    }
   ],
   "source": [
    "print(a.ndim)\n",
    "print(a.dtype)\n",
    "print(a.size)\n",
    "print(a.itemsize)\n",
    "print(a.nbytes)\n",
    "print(a.shape)"
   ]
  },
  {
   "cell_type": "code",
   "execution_count": 8,
   "metadata": {},
   "outputs": [
    {
     "name": "stdout",
     "output_type": "stream",
     "text": [
      "[[1 2 3 4]\n",
      " [5 6 7 8]]\n"
     ]
    }
   ],
   "source": [
    "b = np.array([[1,2,3,4],[5,6,7,8]])\n",
    "print(b)"
   ]
  },
  {
   "cell_type": "code",
   "execution_count": 9,
   "metadata": {},
   "outputs": [
    {
     "name": "stdout",
     "output_type": "stream",
     "text": [
      "2\n",
      "int64\n",
      "8\n",
      "8\n",
      "64\n",
      "(2, 4)\n"
     ]
    }
   ],
   "source": [
    "print(b.ndim)\n",
    "print(b.dtype)\n",
    "print(b.size)\n",
    "print(b.itemsize)\n",
    "print(b.nbytes)\n",
    "print(b.shape)"
   ]
  },
  {
   "cell_type": "code",
   "execution_count": 10,
   "metadata": {},
   "outputs": [
    {
     "name": "stdout",
     "output_type": "stream",
     "text": [
      "[[0 0 0 0 0]\n",
      " [0 0 0 0 0]\n",
      " [0 0 0 0 0]\n",
      " [0 0 0 0 0]]\n",
      "[[1 1 1]\n",
      " [1 1 1]]\n",
      "[[7 7 7 7 7 7]\n",
      " [7 7 7 7 7 7]\n",
      " [7 7 7 7 7 7]\n",
      " [7 7 7 7 7 7]\n",
      " [7 7 7 7 7 7]]\n"
     ]
    }
   ],
   "source": [
    "c = np.zeros((4,5),dtype='int32')\n",
    "d = np.ones((2,3),dtype='int32')\n",
    "e = np.full((5,6),7)\n",
    "print(c)\n",
    "print(d)\n",
    "print(e)"
   ]
  },
  {
   "cell_type": "code",
   "execution_count": 11,
   "metadata": {},
   "outputs": [
    {
     "name": "stdout",
     "output_type": "stream",
     "text": [
      "[[69 69 69 69]\n",
      " [69 69 69 69]]\n"
     ]
    }
   ],
   "source": [
    "f = np.full_like(b,69)\n",
    "print(f)"
   ]
  },
  {
   "cell_type": "code",
   "execution_count": 12,
   "metadata": {},
   "outputs": [
    {
     "name": "stdout",
     "output_type": "stream",
     "text": [
      "[0 1 2 3]\n",
      "[2 3 4 5 6 7 8]\n",
      "[2 4 6 8]\n",
      "[ 2  4  6  8 10]\n",
      "[ 2  3  4  5  6  7  8  9 10]\n"
     ]
    }
   ],
   "source": [
    "print(np.arange(4))\n",
    "print(np.arange(2,9))\n",
    "print(np.arange(2,9,2))\n",
    "print(np.linspace(2,10,5, dtype='int32'))\n",
    "print(np.linspace(2,10,9 , dtype='int'))"
   ]
  },
  {
   "cell_type": "code",
   "execution_count": 13,
   "metadata": {},
   "outputs": [
    {
     "name": "stdout",
     "output_type": "stream",
     "text": [
      "[[0.81601844 0.78840667 0.09184456 0.082554  ]\n",
      " [0.17749687 0.0850765  0.14757314 0.57022094]\n",
      " [0.72073826 0.99687623 0.87876899 0.84482763]]\n",
      "[[6 5 6 9]\n",
      " [5 5 7 6]]\n",
      "[[1 0 0 0 0]\n",
      " [0 1 0 0 0]\n",
      " [0 0 1 0 0]\n",
      " [0 0 0 1 0]\n",
      " [0 0 0 0 1]]\n",
      "[ 2.  4.  6.  8. 10.]\n"
     ]
    }
   ],
   "source": [
    "g= np.random.rand(3,4)\n",
    "h= np.random.randint(5,10 , size=b.shape)\n",
    "i= np.identity(5,dtype='int32')\n",
    "j=np.linspace(2,10,5)\n",
    "print(g)\n",
    "print(h)\n",
    "print(i)\n",
    "print(j)"
   ]
  },
  {
   "cell_type": "code",
   "execution_count": null,
   "metadata": {},
   "outputs": [],
   "source": []
  },
  {
   "cell_type": "code",
   "execution_count": 14,
   "metadata": {},
   "outputs": [
    {
     "name": "stdout",
     "output_type": "stream",
     "text": [
      "[[1 2 3]\n",
      " [1 2 3]\n",
      " [1 2 3]]\n",
      "[[1 1 1 2 2 2 3 3 3]]\n",
      "[[[1 1 1]\n",
      "  [2 2 2]\n",
      "  [3 3 3]]]\n"
     ]
    }
   ],
   "source": [
    "#Repeat an array\n",
    "brr=np.array([[1,2,3]])\n",
    "k=np.repeat(brr,3,axis=0)\n",
    "l=np.repeat(brr,3,axis=1)\n",
    "mrr=np.array([[[1],[2],[3]]])\n",
    "m=np.repeat(mrr,3,axis=2)\n",
    "\n",
    "print(k)\n",
    "print(l)\n",
    "print(m)"
   ]
  },
  {
   "attachments": {},
   "cell_type": "markdown",
   "metadata": {},
   "source": [
    "Statistics"
   ]
  },
  {
   "cell_type": "code",
   "execution_count": 15,
   "metadata": {},
   "outputs": [
    {
     "data": {
      "text/plain": [
       "array([[1, 2, 3],\n",
       "       [4, 5, 6]])"
      ]
     },
     "execution_count": 15,
     "metadata": {},
     "output_type": "execute_result"
    }
   ],
   "source": [
    "st=np.array([[1,2,3],[4,5,6]])\n",
    "st"
   ]
  },
  {
   "cell_type": "code",
   "execution_count": 16,
   "metadata": {},
   "outputs": [
    {
     "name": "stdout",
     "output_type": "stream",
     "text": [
      "[[1 2 3]\n",
      " [4 5 6]]\n",
      "1\n",
      "6\n",
      "[1 2 3]\n",
      "[4 5 6]\n",
      "[1 4]\n",
      "[3 6]\n"
     ]
    }
   ],
   "source": [
    "print(st)\n",
    "print(np.min(st))\n",
    "print(np.max(st))\n",
    "print(np.min(st,axis=0))\n",
    "print(np.max(st,axis=0))\n",
    "print(np.min(st,axis=1))\n",
    "print(np.max(st,axis=1))"
   ]
  },
  {
   "cell_type": "code",
   "execution_count": 17,
   "metadata": {},
   "outputs": [
    {
     "name": "stdout",
     "output_type": "stream",
     "text": [
      "[[1 2 3]\n",
      " [4 5 6]]\n",
      "21\n",
      "[5 7 9]\n",
      "[ 6 15]\n"
     ]
    }
   ],
   "source": [
    "print(st)\n",
    "print(np.sum(st))\n",
    "print(np.sum(st,axis=0))\n",
    "print(np.sum(st,axis=1))"
   ]
  },
  {
   "attachments": {},
   "cell_type": "markdown",
   "metadata": {},
   "source": [
    "Reorganizng arrays"
   ]
  },
  {
   "cell_type": "code",
   "execution_count": 24,
   "metadata": {},
   "outputs": [
    {
     "name": "stdout",
     "output_type": "stream",
     "text": [
      "[[1 2 3 4]\n",
      " [5 6 7 8]]\n",
      "\n",
      "[[1 2]\n",
      " [3 4]\n",
      " [5 6]\n",
      " [7 8]]\n",
      "\n",
      "[[[1 2]\n",
      "  [3 4]]\n",
      "\n",
      " [[5 6]\n",
      "  [7 8]]]\n",
      "\n",
      "[[ 99 100]\n",
      " [101 102]]\n",
      "\n",
      "[[4 3 2 1]\n",
      " [8 7 6 5]]\n",
      "\n",
      "[[1 2 3 4]\n",
      " [5 6 7 8]\n",
      " [4 3 2 1]\n",
      " [8 7 6 5]]\n",
      "\n",
      "[[  1   2   3   4  99 100]\n",
      " [  5   6   7   8 101 102]]\n",
      "\n",
      "[[  1   2   3   4   4   3   2   1  99 100]\n",
      " [  5   6   7   8   8   7   6   5 101 102]]\n",
      "\n"
     ]
    }
   ],
   "source": [
    "arr=np.array([[1,2,3,4],[5,6,7,8]])\n",
    "print(arr)\n",
    "print()\n",
    "\n",
    "arr1=arr.reshape((4,2))\n",
    "print(arr1)\n",
    "print()\n",
    "\n",
    "print(np.reshape(arr, newshape=(2,2,2)))\n",
    "print()\n",
    "\n",
    "arr2 = np.array([[99,100],[101,102]])\n",
    "print(arr2)\n",
    "print()\n",
    "\n",
    "arr3 = np.array([[4,3,2,1],[8,7,6,5]])\n",
    "print(arr3)\n",
    "print()\n",
    "\n",
    "arr4=np.vstack((arr,arr3))\n",
    "print(arr4)\n",
    "print()\n",
    "print(np.hstack((arr,arr2)))\n",
    "print()\n",
    "print(np.hstack((arr,arr3,arr2)))\n",
    "print()"
   ]
  },
  {
   "cell_type": "code",
   "execution_count": 19,
   "metadata": {},
   "outputs": [
    {
     "name": "stdout",
     "output_type": "stream",
     "text": [
      "[[1 2 3 4]\n",
      " [5 6 7 8]\n",
      " [4 3 2 1]\n",
      " [8 7 6 5]]\n",
      "[1 2 3 3 2 1]\n",
      "[[ True  True  True False]\n",
      " [False False False False]\n",
      " [False  True  True  True]\n",
      " [False False False False]]\n",
      "[[False  True False  True]\n",
      " [False  True False  True]\n",
      " [ True False  True False]\n",
      " [ True False  True False]]\n"
     ]
    }
   ],
   "source": [
    "p=arr4\n",
    "print(p)\n",
    "\n",
    "print(p[p<4])\n",
    "print(p<4)\n",
    "print(p%2==0)"
   ]
  }
 ],
 "metadata": {
  "kernelspec": {
   "display_name": "Python 3 (ipykernel)",
   "language": "python",
   "name": "python3"
  },
  "language_info": {
   "codemirror_mode": {
    "name": "ipython",
    "version": 3
   },
   "file_extension": ".py",
   "mimetype": "text/x-python",
   "name": "python",
   "nbconvert_exporter": "python",
   "pygments_lexer": "ipython3",
   "version": "3.10.12"
  },
  "vscode": {
   "interpreter": {
    "hash": "173ede44d3b75e09af6dc5d8ea1e2d0a0d849a2b6e7d12b88762e08bdf0dd200"
   }
  }
 },
 "nbformat": 4,
 "nbformat_minor": 4
}
