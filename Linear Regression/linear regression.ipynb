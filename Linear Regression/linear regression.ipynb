{
 "cells": [
  {
   "cell_type": "code",
   "execution_count": 1,
   "metadata": {},
   "outputs": [],
   "source": [
    "import pandas as pd\n",
    "import numpy as np \n",
    "import matplotlib.pyplot as plt"
   ]
  },
  {
   "cell_type": "markdown",
   "metadata": {},
   "source": [
    "Reading Data from CSV File"
   ]
  },
  {
   "cell_type": "code",
   "execution_count": 2,
   "metadata": {},
   "outputs": [
    {
     "name": "stdout",
     "output_type": "stream",
     "text": [
      "1  pH 7.6 , Bicarbonate Content (in ppm) 157\n",
      "2  pH 7.1 , Bicarbonate Content (in ppm) 174\n",
      "3  pH 8.2 , Bicarbonate Content (in ppm) 175\n",
      "4  pH 7.5 , Bicarbonate Content (in ppm) 188\n",
      "5  pH 7.4 , Bicarbonate Content (in ppm) 171\n",
      "6  pH 7.8 , Bicarbonate Content (in ppm) 143\n",
      "7  pH 7.3 , Bicarbonate Content (in ppm) 217\n",
      "8  pH 8 , Bicarbonate Content (in ppm) 190\n",
      "9  pH 7.1 , Bicarbonate Content (in ppm) 142\n",
      "10  pH 7.5 , Bicarbonate Content (in ppm) 190\n",
      "11  pH 8.1 , Bicarbonate Content (in ppm) 215\n",
      "12  pH 7 , Bicarbonate Content (in ppm) 199\n",
      "13  pH 7.3 , Bicarbonate Content (in ppm) 262\n",
      "14  pH 7.8 , Bicarbonate Content (in ppm) 105\n",
      "15  pH 7.3 , Bicarbonate Content (in ppm) 121\n",
      "16  pH 8 , Bicarbonate Content (in ppm) 81\n",
      "17  pH 8.5 , Bicarbonate Content (in ppm) 82\n",
      "18  pH 7.1 , Bicarbonate Content (in ppm) 210\n",
      "19  pH 8.2 , Bicarbonate Content (in ppm) 202\n",
      "20  pH 7.9 , Bicarbonate Content (in ppm) 155\n",
      "21  pH 7.6 , Bicarbonate Content (in ppm) 157\n",
      "22  pH 8.8 , Bicarbonate Content (in ppm) 147\n",
      "23  pH 7.2 , Bicarbonate Content (in ppm) 133\n",
      "24  pH 7.9 , Bicarbonate Content (in ppm) 53\n",
      "25  pH 8.1 , Bicarbonate Content (in ppm) 56\n",
      "26  pH 7.7 , Bicarbonate Content (in ppm) 113\n",
      "27  pH 8.4 , Bicarbonate Content (in ppm) 35\n",
      "28  pH 7.4 , Bicarbonate Content (in ppm) 125\n",
      "29  pH 7.3 , Bicarbonate Content (in ppm) 76\n",
      "30  pH 8.5 , Bicarbonate Content (in ppm) 48\n",
      "31  pH 7.8 , Bicarbonate Content (in ppm) 147\n",
      "32  pH 6.7 , Bicarbonate Content (in ppm) 117\n",
      "33  pH 7.1 , Bicarbonate Content (in ppm) 182\n",
      "34  pH 7.3 , Bicarbonate Content (in ppm) 87\n"
     ]
    }
   ],
   "source": [
    "data = pd.read_csv('data.csv', sep=',', names=['X','Y'])\n",
    "data = data.drop(0,axis=0)\n",
    "\n",
    "for ind in data.index:\n",
    "    print(ind, ' pH', data['X'][ind], ', Bicarbonate Content (in ppm)', data['Y'][ind])"
   ]
  },
  {
   "cell_type": "code",
   "execution_count": 3,
   "metadata": {},
   "outputs": [
    {
     "name": "stdout",
     "output_type": "stream",
     "text": [
      "[7.6 7.1 8.2 7.5 7.4 7.8 7.3 8.  7.1 7.5 8.1 7.  7.3 7.8 7.3 8.  8.5 7.1\n",
      " 8.2 7.9 7.6 8.8 7.2 7.9 8.1 7.7 8.4 7.4 7.3 8.5 7.8 6.7 7.1 7.3]\n",
      "\n",
      "[157 174 175 188 171 143 217 190 142 190 215 199 262 105 121  81  82 210\n",
      " 202 155 157 147 133  53  56 113  35 125  76  48 147 117 182  87]\n",
      "34\n",
      "2\n"
     ]
    }
   ],
   "source": [
    "# Initializing list of x data and y data\n",
    "\n",
    "x_list = [[],[]]\n",
    "y_list = []\n",
    "\n",
    "# Iterating over the DataFrame to fill the lists with necessary information\n",
    "\n",
    "for ind in data.index:\n",
    "    x_list[0].append(1)   # x0 = 1 for all data\n",
    "    x_list[1].append(float(data['X'][ind]))\n",
    "    y_list.append(int(data['Y'][ind]))\n",
    "\n",
    "# Conversion to numpy array\n",
    "\n",
    "x_arr = np.array(x_list[1])\n",
    "y_arr = np.array(y_list)\n",
    "\n",
    "# Printing the data\n",
    "\n",
    "print(x_arr)\n",
    "print()\n",
    "print(y_arr)\n",
    "\n",
    "m = len(data)  #number of training examples\n",
    "print(m)\n",
    "\n",
    "n = len(x_list)  #number of parameters\n",
    "print(n)"
   ]
  },
  {
   "cell_type": "markdown",
   "metadata": {},
   "source": [
    "Batch Gradient Descent"
   ]
  },
  {
   "cell_type": "code",
   "execution_count": 4,
   "metadata": {},
   "outputs": [],
   "source": [
    "def cost_function(theta,x_list,y_list):\n",
    "    cost=0\n",
    "    for i in range(m):\n",
    "        cost+=(theta[0]+theta[1]*x_list[1][i] - y_list[i])**2\n",
    "    return cost/2"
   ]
  },
  {
   "cell_type": "code",
   "execution_count": 5,
   "metadata": {},
   "outputs": [],
   "source": [
    "def BGD(x_data,y_data,theta,learning_rate,precision_value):\n",
    "    n = len(x_data)    #number of parameters\n",
    "    m = len(x_data[0])    #number of training examples\n",
    "    while True:\n",
    "        cost_before = cost_function(theta,x_data,y_data)\n",
    "        for j in range(n):  # iterating over all parameters\n",
    "            grad = 0\n",
    "            for i in range(m):  # iterating over all training examples\n",
    "                grad += ((theta[0]*x_data[0][i] + theta[1]*x_data[1][i] - y_data[i])*(x_data[j][i]))\n",
    "            theta[j] = theta[j] - learning_rate*grad\n",
    "        cost_after = cost_function(theta,x_data,y_data)\n",
    "\n",
    "        if (abs(cost_before-cost_after)<precision_value):\n",
    "            break\n",
    "\n",
    "    return theta"
   ]
  },
  {
   "cell_type": "code",
   "execution_count": 6,
   "metadata": {},
   "outputs": [
    {
     "data": {
      "text/plain": [
       "Text(0.5, 1.0, 'Ground Water Survey')"
      ]
     },
     "execution_count": 6,
     "metadata": {},
     "output_type": "execute_result"
    },
    {
     "data": {
      "image/png": "[encoded data removed]",
      "text/plain": [
       "<Figure size 432x288 with 1 Axes>"
      ]
     },
     "metadata": {
      "needs_background": "light"
     },
     "output_type": "display_data"
    }
   ],
   "source": [
    "theta = BGD(x_list,y_list,[0,0],0.001,0.0000000001)\n",
    "\n",
    "#plot of hypothesis function\n",
    "x = np.linspace(6.5,9,1000) \n",
    "plt.plot(x, theta[0] + theta[1]*x, linestyle='solid')\n",
    "\n",
    "#plot of training data\n",
    "plt.scatter(x_arr,y_arr,marker='x',linewidths=1)\n",
    "plt.xlabel(\"pH\")\n",
    "plt.ylabel(\"Bicarbonate Content in ppm\")\n",
    "plt.title(\"Ground Water Survey\")"
   ]
  },
  {
   "cell_type": "markdown",
   "metadata": {},
   "source": [
    "Stochastic Gradient Descent"
   ]
  },
  {
   "cell_type": "code",
   "execution_count": 7,
   "metadata": {},
   "outputs": [],
   "source": [
    "def SGD(x_data,y_data,theta,learning_rate,precision_value):\n",
    "    n = len(x_data)    #number of parameters\n",
    "    m = len(x_data[0])    #number of training examples\n",
    "    while True:\n",
    "        for i in range(m):  # iterating over all training examples\n",
    "            cost_before = cost_function(theta,x_data,y_data)\n",
    "\n",
    "            for j in range(n):  # iterating over all parameters\n",
    "                grad = ((theta[0]*x_data[0][i] + theta[1]*x_data[1][i] - y_data[i])*(x_data[j][i]))\n",
    "                theta[j] = theta[j] - learning_rate*grad\n",
    "            \n",
    "            cost_after = cost_function(theta,x_data,y_data)\n",
    "\n",
    "            if (abs(cost_before-cost_after)<precision_value):\n",
    "                break\n",
    "        \n",
    "        return theta"
   ]
  },
  {
   "cell_type": "code",
   "execution_count": 8,
   "metadata": {},
   "outputs": [
    {
     "data": {
      "text/plain": [
       "Text(0.5, 1.0, 'Ground Water Survey')"
      ]
     },
     "execution_count": 8,
     "metadata": {},
     "output_type": "execute_result"
    },
    {
     "data": {
      "image/png": "[encoded data removed]",
      "text/plain": [
       "<Figure size 432x288 with 1 Axes>"
      ]
     },
     "metadata": {
      "needs_background": "light"
     },
     "output_type": "display_data"
    }
   ],
   "source": [
    "theta = SGD(x_list,y_list,[0,0],0.001,0.0000000001)\n",
    "\n",
    "#plot of hypothesis function\n",
    "x = np.linspace(6.5,9,1000) \n",
    "plt.plot(x, theta[0] + theta[1]*x, linestyle='solid')\n",
    "\n",
    "#plot of training data\n",
    "plt.scatter(x_arr,y_arr,marker='x',linewidths=1)\n",
    "plt.xlabel(\"pH\")\n",
    "plt.ylabel(\"Bicarbonate Content in ppm\")\n",
    "plt.title(\"Ground Water Survey\")"
   ]
  },
  {
   "cell_type": "markdown",
   "metadata": {},
   "source": [
    "Normal Equation"
   ]
  },
  {
   "cell_type": "code",
   "execution_count": 9,
   "metadata": {},
   "outputs": [],
   "source": [
    "def normal_equation(x_data,y_data):\n",
    "    n = len(x_data)    #number of parameters\n",
    "    m = len(x_data[0])    #number of training examples\n",
    "\n",
    "    # Computing the X and Y matrices\n",
    "    x_mtx = []\n",
    "    y_mtx = []\n",
    "\n",
    "    for i in range(m):\n",
    "        lst = []\n",
    "        for j in range(n):\n",
    "            lst.append(x_data[j][i])\n",
    "        x_mtx.append(lst)\n",
    "        y_mtx.append([y_data[i]])\n",
    "\n",
    "    X = np.array(x_mtx)\n",
    "    Y = np.array(y_mtx)\n",
    "\n",
    "    # Applying Normal Equation\n",
    "    X_t = np.transpose(X)\n",
    "    X_tY = np.matmul(X_t,Y)\n",
    "    X_tX = np.matmul(X_t,X)\n",
    "    iX_tX = np.linalg.inv(X_tX)\n",
    "    theta = np.matmul(iX_tX, X_tY)\n",
    "    \n",
    "    return theta"
   ]
  },
  {
   "cell_type": "code",
   "execution_count": 10,
   "metadata": {},
   "outputs": [
    {
     "data": {
      "text/plain": [
       "Text(0.5, 1.0, 'Ground Water Survey')"
      ]
     },
     "execution_count": 10,
     "metadata": {},
     "output_type": "execute_result"
    },
    {
     "data": {
      "image/png": "[encoded data removed]",
      "text/plain": [
       "<Figure size 432x288 with 1 Axes>"
      ]
     },
     "metadata": {
      "needs_background": "light"
     },
     "output_type": "display_data"
    }
   ],
   "source": [
    "theta = normal_equation(x_list,y_list)\n",
    "\n",
    "#plot of hypothesis function\n",
    "x = np.linspace(6.5,9,1000) \n",
    "plt.plot(x, theta[0] + theta[1]*x, linestyle='solid')\n",
    "\n",
    "#plot of training data\n",
    "plt.scatter(x_arr,y_arr,marker='x',linewidths=1)\n",
    "plt.xlabel(\"pH\")\n",
    "plt.ylabel(\"Bicarbonate Content in ppm\")\n",
    "plt.title(\"Ground Water Survey\")"
   ]
  }
 ],
 "metadata": {
  "kernelspec": {
   "display_name": "Python 3",
   "language": "python",
   "name": "python3"
  },
  "language_info": {
   "codemirror_mode": {
    "name": "ipython",
    "version": 3
   },
   "file_extension": ".py",
   "mimetype": "text/x-python",
   "name": "python",
   "nbconvert_exporter": "python",
   "pygments_lexer": "ipython3",
   "version": "3.10.12"
  }
 },
 "nbformat": 4,
 "nbformat_minor": 2
}
