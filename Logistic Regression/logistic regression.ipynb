{
 "cells": [
  {
   "cell_type": "code",
   "execution_count": 96,
   "metadata": {},
   "outputs": [],
   "source": [
    "import pandas as pd\n",
    "import numpy as np\n",
    "import matplotlib.pyplot as plt\n",
    "from math import exp, log"
   ]
  },
  {
   "cell_type": "markdown",
   "metadata": {},
   "source": [
    "Reading Data from CSV File"
   ]
  },
  {
   "cell_type": "code",
   "execution_count": 97,
   "metadata": {},
   "outputs": [
    {
     "name": "stdout",
     "output_type": "stream",
     "text": [
      "1  Age:  22 , Bought Insurance 0\n",
      "2  Age:  25 , Bought Insurance 0\n",
      "3  Age:  47 , Bought Insurance 1\n",
      "4  Age:  52 , Bought Insurance 0\n",
      "5  Age:  46 , Bought Insurance 1\n",
      "6  Age:  56 , Bought Insurance 1\n",
      "7  Age:  55 , Bought Insurance 0\n",
      "8  Age:  60 , Bought Insurance 1\n",
      "9  Age:  62 , Bought Insurance 1\n",
      "10  Age:  61 , Bought Insurance 1\n",
      "11  Age:  18 , Bought Insurance 0\n",
      "12  Age:  28 , Bought Insurance 0\n",
      "13  Age:  27 , Bought Insurance 0\n",
      "14  Age:  29 , Bought Insurance 0\n",
      "15  Age:  49 , Bought Insurance 1\n",
      "16  Age:  55 , Bought Insurance 1\n",
      "17  Age:  25 , Bought Insurance 1\n",
      "18  Age:  58 , Bought Insurance 1\n",
      "19  Age:  19 , Bought Insurance 0\n",
      "20  Age:  18 , Bought Insurance 0\n",
      "21  Age:  21 , Bought Insurance 0\n",
      "22  Age:  26 , Bought Insurance 0\n",
      "23  Age:  40 , Bought Insurance 1\n",
      "24  Age:  45 , Bought Insurance 1\n",
      "25  Age:  50 , Bought Insurance 1\n",
      "26  Age:  54 , Bought Insurance 1\n",
      "27  Age:  23 , Bought Insurance 0\n"
     ]
    }
   ],
   "source": [
    "data = pd.read_csv('insurance_data.csv', sep=',', names=['X','Y'])\n",
    "data = data.drop(0,axis=0)\n",
    "\n",
    "for ind in data.index:\n",
    "    print(ind, ' Age: ', data['X'][ind], ', Bought Insurance', data['Y'][ind])"
   ]
  },
  {
   "cell_type": "code",
   "execution_count": 98,
   "metadata": {},
   "outputs": [
    {
     "name": "stdout",
     "output_type": "stream",
     "text": [
      "[22. 25. 47. 52. 46. 56. 55. 60. 62. 61. 18. 28. 27. 29. 49. 55. 25. 58.\n",
      " 19. 18. 21. 26. 40. 45. 50. 54. 23.]\n",
      "\n",
      "[0 0 1 0 1 1 0 1 1 1 0 0 0 0 1 1 1 1 0 0 0 0 1 1 1 1 0] \n",
      "\n",
      "27 \n",
      "\n",
      "2\n"
     ]
    }
   ],
   "source": [
    "# Initializing list of x data and y data\n",
    "\n",
    "x_list = [[],[]]\n",
    "y_list = []\n",
    "\n",
    "# Iterating over the DataFrame to fill the lists with necessary information\n",
    "\n",
    "for ind in data.index:\n",
    "    x_list[0].append(1)   # x0 = 1 for all data\n",
    "    x_list[1].append(float(data['X'][ind]))\n",
    "    y_list.append(int(data['Y'][ind]))\n",
    "\n",
    "# Conversion to numpy array\n",
    "\n",
    "x_arr = np.array(x_list[1])\n",
    "y_arr = np.array(y_list)\n",
    "\n",
    "# Printing the data\n",
    "\n",
    "print(x_arr)\n",
    "print()\n",
    "print(y_arr, \"\\n\")\n",
    "\n",
    "m = len(data)  #number of training examples\n",
    "print(m,\"\\n\")\n",
    "\n",
    "n = len(x_list)  #number of parameters\n",
    "print(n)"
   ]
  },
  {
   "cell_type": "code",
   "execution_count": 99,
   "metadata": {},
   "outputs": [
    {
     "data": {
      "text/plain": [
       "Text(0.5, 1.0, 'Insurace Data')"
      ]
     },
     "execution_count": 99,
     "metadata": {},
     "output_type": "execute_result"
    },
    {
     "data": {
      "image/png": "[encoded data removed]",
      "text/plain": [
       "<Figure size 432x288 with 1 Axes>"
      ]
     },
     "metadata": {
      "needs_background": "light"
     },
     "output_type": "display_data"
    }
   ],
   "source": [
    "#plot of training data\n",
    "plt.scatter(x_arr,y_arr,marker='x',linewidths=1)\n",
    "plt.xlabel(\"Age\")\n",
    "plt.ylabel(\"Bought insurace\")\n",
    "plt.title(\"Insurace Data\")"
   ]
  },
  {
   "cell_type": "markdown",
   "metadata": {},
   "source": [
    "Batch Gradient Ascent"
   ]
  },
  {
   "cell_type": "code",
   "execution_count": 100,
   "metadata": {},
   "outputs": [],
   "source": [
    "def hypot(theta,x_i):\n",
    "    ans = (-1)*(theta[0]*x_i[0] + theta[1]*x_i[1])\n",
    "    return (1/(1+exp(ans)))"
   ]
  },
  {
   "cell_type": "code",
   "execution_count": 101,
   "metadata": {},
   "outputs": [],
   "source": [
    "def log_likelihood(theta,x_data,y_data):\n",
    "    m = len(x_data[0])    #number of training examples\n",
    "    ll = 0\n",
    "    for i in range(m):\n",
    "        h_theta_xi = hypot(theta,[x_data[0][i],x_data[1][i]])\n",
    "        ll += (y_data[i])*log(h_theta_xi) + (1 - y_data[i])*log(1 - h_theta_xi)\n",
    "    return ll"
   ]
  },
  {
   "cell_type": "code",
   "execution_count": 102,
   "metadata": {},
   "outputs": [],
   "source": [
    "def BGD(x_data,y_data,theta,learning_rate,precision_value):\n",
    "    n = len(x_data)    #number of parameters \n",
    "    m = len(x_data[0])    #number of training examples\n",
    "    \n",
    "    while True:\n",
    "        ll_before = log_likelihood(theta,x_data,y_data)\n",
    "\n",
    "        for j in range(n):  # iterating over all parameters\n",
    "            grad=0\n",
    "            for i in range(m):  # iterating over all training examples\n",
    "                grad += ((y_data[i] - hypot(theta,[1,x_data[1][i]]))*(x_data[j][i]))\n",
    "            theta[j] = theta[j] + learning_rate*grad\n",
    "\n",
    "        ll_after = log_likelihood(theta,x_data,y_data)\n",
    "\n",
    "        if (abs(ll_before-ll_after)<precision_value):  # convergence condition\n",
    "            break\n",
    "\n",
    "    return theta"
   ]
  },
  {
   "cell_type": "code",
   "execution_count": 109,
   "metadata": {},
   "outputs": [
    {
     "data": {
      "text/plain": [
       "Text(0.5, 1.0, 'Insurace Data')"
      ]
     },
     "execution_count": 109,
     "metadata": {},
     "output_type": "execute_result"
    },
    {
     "data": {
      "image/png": "[encoded data removed]",
      "text/plain": [
       "<Figure size 432x288 with 1 Axes>"
      ]
     },
     "metadata": {
      "needs_background": "light"
     },
     "output_type": "display_data"
    }
   ],
   "source": [
    "theta = BGD(x_list,y_list,[0,0],0.0001,0.000001)\n",
    "\n",
    "#plot of hypothesis function\n",
    "x = np.linspace(15,65,10000) \n",
    "\n",
    "y_lst = []\n",
    "for val in x:\n",
    "    y_val = hypot(theta,[1,val])\n",
    "    y_lst.append(y_val)\n",
    "\n",
    "y = np.array(y_lst)\n",
    "\n",
    "plt.plot(x,y)\n",
    "\n",
    "#plot of training data\n",
    "plt.scatter(x_arr,y_arr,marker='x',linewidths=1)\n",
    "plt.xlabel(\"Age\")\n",
    "plt.ylabel(\"Bought insurace\")\n",
    "plt.title(\"Insurace Data\")"
   ]
  }
 ],
 "metadata": {
  "kernelspec": {
   "display_name": "Python 3",
   "language": "python",
   "name": "python3"
  },
  "language_info": {
   "codemirror_mode": {
    "name": "ipython",
    "version": 3
   },
   "file_extension": ".py",
   "mimetype": "text/x-python",
   "name": "python",
   "nbconvert_exporter": "python",
   "pygments_lexer": "ipython3",
   "version": "3.10.12"
  }
 },
 "nbformat": 4,
 "nbformat_minor": 2
}
